{
 "cells": [
  {
   "cell_type": "code",
   "execution_count": 10,
   "metadata": {},
   "outputs": [],
   "source": [
    "import matplotlib.pyplot as plt\n",
    "import seaborn as sns; sns.set()  # for plot styling\n",
    "import numpy as np\n",
    "import pandas as pd\n",
    "from sklearn.cluster import k_means, kmeans_plusplus, KMeans\n",
    "from sklearn.decomposition import PCA\n",
    "import math\n",
    "import matplotlib.pyplot as plt\n",
    "import matplotlib as mpl\n",
    "from sklearn.mixture import GaussianMixture\n",
    "from sklearn.model_selection import GridSearchCV, train_test_split, cross_val_score\n",
    "from sklearn.linear_model import LogisticRegression\n",
    "from sklearn.pipeline import Pipeline\n",
    "from sklearn.metrics import accuracy_score\n",
    "\n",
    "from sklearn.cluster import AgglomerativeClustering\n",
    "import scipy.cluster.hierarchy as sch"
   ]
  },
  {
   "attachments": {},
   "cell_type": "markdown",
   "metadata": {},
   "source": [
    "# Assignment 3 - Clustering\n",
    "\n",
    "For this assignment you'll need to use some clustering knowledge to build a function that can generate handwritten numbers from a provided number. \n",
    "\n",
    "The modelling parts of this assignment are not very complex, the application of the clustering algorithms is very similar to the examples from class. This will require a little more manipulation of data, and building a little bit of structure around the models, that's where some of the challenge lies. \n",
    "\n",
    "## Requirements\n",
    "<ul>\n",
    "<li>Use clustering to take the X data (the features/pixels) of the MNIST dataset, and group it into clusters. \n",
    "    <ul>\n",
    "    <li> Do not use the targets from the dataset at all. \n",
    "    <li> Use as many clusters as you think is appropriate.\n",
    "    </ul>\n",
    "<li>Assign labels to your clusters, so there is now a label for each cluster. You'll need to manually do a little mapping here by eye. \n",
    "<li><b>So, to this point. You take the images, ditch their labels, and do clustering to group them. You don't know which cluster is which digit. You have to then label them, or look at each one and say, \"looks like 7s\", then assign that group a label of 7. </b>\n",
    "<li>Use GMM to build a function that can generate a new digit from the information in the cluster. \n",
    "<li>Write a function, writeNumber, that can take in an integer (you can assume it is between 1 and 20 digits, this is mostly for printing purposes, the modelling part isn't impacted by this at all) and print out that integer as a generated handwritten number. \n",
    "<li><b>When generating the handwritten numbers, each version of a digit should be different. I.e. If the number printed is 22222, there should not be 5 identical 2s, they should vary a bit like real writing. Each digit should be a new generation of data.</b>\n",
    "</ul>\n",
    "\n",
    "## Deliverables\n",
    "Submit your .ipynb file to the Moodle dropbox. PLEASE make sure that the file runs BY ITSELF outside of importing libraries. It should not reference any other files, either data or code. \n",
    "\n",
    "Within your file, create a function called writeNumber, which takes a number as an input, and prints it out as a series of handwritten digits. The function should be callable like this, if I wanted to print the number 218201\n",
    "\n",
    "~~~\n",
    "writeNumber(218201)\n",
    "~~~\n",
    "\n",
    "This would produce something that looks, somewhat, like this:\n",
    "\n",
    "![Writing Example](example.png \"Writing Example\" )\n",
    "\n",
    "The exact appearance of the generated writing can vary, it likely won't be as well defined as this picture. As long as I can read it as a number, it is fine. \n",
    "\n",
    "Hint: the number of clusters may vary. \n",
    "\n",
    "## Grading\n",
    "<ul>\n",
    "<li> 70% - Code works. This is mostly a yes/no thing, if it doesn't work I'll try to see if it was a small or large issue in the code, but it largely works or it doesn't. \n",
    "<li> 20% - Numbers appearance. Is the writing OK? I'm not going to be overly picky, if they are reasonably legible, that is fine. \n",
    "<li> 10% - Code legibility. Is a quick read over of the code clear? Sections, comments, etc... \n",
    "</ul>"
   ]
  },
  {
   "cell_type": "markdown",
   "metadata": {},
   "source": [
    "## Load Data\n",
    "<b> Please do not change this (substantially), probably outside of choosing between the full data and a subset. Don't load the target. </b>\n",
    "\n",
    "Note: testing will be much faster with a subset of records. "
   ]
  },
  {
   "cell_type": "code",
   "execution_count": 501,
   "metadata": {},
   "outputs": [
    {
     "name": "stdout",
     "output_type": "stream",
     "text": [
      "(15000, 784)\n"
     ]
    }
   ],
   "source": [
    "#Load Data\n",
    "from sklearn.datasets import fetch_openml\n",
    "mnist = fetch_openml('mnist_784', version=1)\n",
    "X = mnist[\"data\"][0:15000]\n",
    "#X = mnist[\"data\"]\n",
    "print(X.shape)"
   ]
  },
  {
   "cell_type": "markdown",
   "metadata": {},
   "source": [
    "## Cluster \n",
    "\n",
    "We need to break the data into clusters first... "
   ]
  },
  {
   "cell_type": "code",
   "execution_count": 779,
   "metadata": {},
   "outputs": [],
   "source": [
    "#Look at an image\n",
    "def showDigit(digit, label, size=28):\n",
    "    some_digit = digit\n",
    "    #turn array into the correct shape\n",
    "    some_digit_image = np.array(some_digit).reshape(size, size)\n",
    "    #imshow displays an array like an image\n",
    "    plt.imshow(some_digit_image, cmap=mpl.cm.binary)\n",
    "    plt.title(label)\n",
    "    plt.axis(\"off\")\n",
    "    plt.show()\n",
    "\n",
    "#Display multiple digits\n",
    "def showDigits(digits, size=28):\n",
    "    #Make a grid that is the right size\n",
    "    pics = len(digits)\n",
    "    fig, axes = plt.subplots(1, pics, figsize=(14,6))\n",
    "    plt.axis(\"off\")\n",
    "\n",
    "    #loop through the list of indexes, grab images and labels, plot in the \"next\" spot. \n",
    "    for i in range(pics):\n",
    "        some_digit = digits.iloc[i]\n",
    "        some_digit_image = np.array(some_digit).reshape(size, size)\n",
    "        ax = axes[i]\n",
    "        ax.axis(\"off\")\n",
    "        ax.imshow(some_digit_image, cmap=mpl.cm.binary)\n",
    "    plt.tight_layout()\n",
    "    plt.axis(\"off\")\n",
    "    plt.show()"
   ]
  },
  {
   "cell_type": "code",
   "execution_count": 76,
   "metadata": {},
   "outputs": [
    {
     "data": {
      "text/plain": [
       "(15000, 328)"
      ]
     },
     "execution_count": 76,
     "metadata": {},
     "output_type": "execute_result"
    }
   ],
   "source": [
    "#Do some feature reduction to speed up clustering model\n",
    "pca = PCA(0.99, whiten=True)\n",
    "pcax = pca.fit_transform(X)\n",
    "pcax.shape"
   ]
  },
  {
   "cell_type": "code",
   "execution_count": 507,
   "metadata": {},
   "outputs": [
    {
     "data": {
      "text/plain": [
       "[<matplotlib.lines.Line2D at 0x1c0b7584910>]"
      ]
     },
     "execution_count": 507,
     "metadata": {},
     "output_type": "execute_result"
    },
    {
     "data": {
      "image/png": "[encoded data removed]",
      "text/plain": [
       "<Figure size 432x288 with 1 Axes>"
      ]
     },
     "metadata": {},
     "output_type": "display_data"
    }
   ],
   "source": [
    "#identifing the optimal number of components for gmm\n",
    "n_components = np.arange(190, 205, 5)\n",
    "models = [GaussianMixture(n, covariance_type='full', random_state=0)\n",
    "         for n in n_components]\n",
    "aics = [model.fit(pcax).aic(pcax) for model in models]\n",
    "plt.plot(n_components, aics)"
   ]
  },
  {
   "attachments": {},
   "cell_type": "markdown",
   "metadata": {},
   "source": [
    "### Model Creation and Label Prediction"
   ]
  },
  {
   "cell_type": "code",
   "execution_count": 508,
   "metadata": {},
   "outputs": [
    {
     "name": "stdout",
     "output_type": "stream",
     "text": [
      "True\n"
     ]
    }
   ],
   "source": [
    "#creating the model and predicting the clusters\n",
    "gmm = GaussianMixture(195, covariance_type='full')\n",
    "gmm.fit(pcax)\n",
    "labels = gmm.predict(pcax)\n",
    "print(gmm.converged_)"
   ]
  },
  {
   "cell_type": "code",
   "execution_count": 755,
   "metadata": {},
   "outputs": [
    {
     "data": {
      "image/png": "[encoded data removed]",
      "text/plain": [
       "<Figure size 1008x432 with 12 Axes>"
      ]
     },
     "metadata": {},
     "output_type": "display_data"
    }
   ],
   "source": [
    "#display images of a particular cluster label\n",
    "element = np.where(labels==194)\n",
    "#X.iloc[list(element[0][0:10])]\n",
    "showDigits(X.iloc[list(element[0][0:10])],labels[list(element[0][0:10])])"
   ]
  },
  {
   "cell_type": "code",
   "execution_count": 756,
   "metadata": {},
   "outputs": [
    {
     "name": "stdout",
     "output_type": "stream",
     "text": [
      "195\n"
     ]
    }
   ],
   "source": [
    "#manual assignment of cluster labels\n",
    "ones = [2,6,7,10,13,19,24,26,27,33,42,46,51,55,102,118,144,151,184,186]\n",
    "twos = [1,11,36,52,58,84,91,100,104,109,110,112,115,123,124,133,158,164,165,168,173,188,189]\n",
    "threes = [30,39,64,69,70,76,77,88,113,120,125,146,147,154,169,171,174,183,194]\n",
    "fours = [0,15,59,62,71,75,87,101,116,122,132,136,180,190]\n",
    "fives = [23,50,56,83,85,89,95,121,126,127,166,178,182]\n",
    "sixes = [5,14,29,32,35,41,48,49,57,74,79,82,114,128,129,135,137,138,141,145,148,155,157,167,175,191,193]\n",
    "sevens = [8,12,17,18,20,28,40,43,45,60,68,72,73,81,90,93,106,107,111,130,131,140,143,150,152,156,160,163,172,177,181,192]\n",
    "eights = [4,22,37,38,44,53,80,149,153,161,170,176]\n",
    "nines = [16,25,31,47,54,61,63,65,66,78,86,94,96,103,108,117,119,139,142,162,187]\n",
    "zeroes = [3,9,21,34,67,92,97,98,99,105,134,159,179,185]\n",
    "numLabels = [ones,twos,threes,fours,fives,sixes,sevens,eights,nines,zeroes]\n",
    "\n",
    "#making sure I didn't miss any\n",
    "print(len(ones)+len(twos)+len(threes)+len(fours)+len(fives)+len(sixes)+len(sevens)+len(eights)+len(nines)+len(zeroes))"
   ]
  },
  {
   "cell_type": "code",
   "execution_count": 757,
   "metadata": {},
   "outputs": [],
   "source": [
    "#creating a parallel array of the actual cluster labels\n",
    "#why is match case only in python 3.10!?\n",
    "clusterLabels = []\n",
    "for i in labels:\n",
    "    if i in ones:\n",
    "        clusterLabels.append(\"1\")\n",
    "    elif i in twos:\n",
    "        clusterLabels.append(\"2\")\n",
    "    elif i in threes:\n",
    "        clusterLabels.append(\"3\")\n",
    "    elif i in fours:\n",
    "        clusterLabels.append(\"4\")\n",
    "    elif i in fives:\n",
    "        clusterLabels.append(\"5\")\n",
    "    elif i in sixes:\n",
    "        clusterLabels.append(\"6\")\n",
    "    elif i in sevens:\n",
    "        clusterLabels.append(\"7\")\n",
    "    elif i in eights:\n",
    "        clusterLabels.append(\"8\")\n",
    "    elif i in nines:\n",
    "        clusterLabels.append(\"9\")\n",
    "    elif i in zeroes:\n",
    "        clusterLabels.append(\"0\")\n"
   ]
  },
  {
   "cell_type": "code",
   "execution_count": 758,
   "metadata": {},
   "outputs": [
    {
     "data": {
      "text/html": [
       "<div>\n",
       "<style scoped>\n",
       "    .dataframe tbody tr th:only-of-type {\n",
       "        vertical-align: middle;\n",
       "    }\n",
       "\n",
       "    .dataframe tbody tr th {\n",
       "        vertical-align: top;\n",
       "    }\n",
       "\n",
       "    .dataframe thead th {\n",
       "        text-align: right;\n",
       "    }\n",
       "</style>\n",
       "<table border=\"1\" class=\"dataframe\">\n",
       "  <thead>\n",
       "    <tr style=\"text-align: right;\">\n",
       "      <th></th>\n",
       "      <th>0</th>\n",
       "      <th>1</th>\n",
       "      <th>2</th>\n",
       "      <th>3</th>\n",
       "      <th>4</th>\n",
       "      <th>5</th>\n",
       "      <th>6</th>\n",
       "      <th>7</th>\n",
       "      <th>8</th>\n",
       "      <th>9</th>\n",
       "      <th>...</th>\n",
       "      <th>319</th>\n",
       "      <th>320</th>\n",
       "      <th>321</th>\n",
       "      <th>322</th>\n",
       "      <th>323</th>\n",
       "      <th>324</th>\n",
       "      <th>325</th>\n",
       "      <th>326</th>\n",
       "      <th>327</th>\n",
       "      <th>label</th>\n",
       "    </tr>\n",
       "  </thead>\n",
       "  <tbody>\n",
       "    <tr>\n",
       "      <th>0</th>\n",
       "      <td>0.175973</td>\n",
       "      <td>-0.658436</td>\n",
       "      <td>-0.083468</td>\n",
       "      <td>-1.229670</td>\n",
       "      <td>-0.132142</td>\n",
       "      <td>-0.713115</td>\n",
       "      <td>0.647069</td>\n",
       "      <td>0.225526</td>\n",
       "      <td>-1.307962</td>\n",
       "      <td>-0.561862</td>\n",
       "      <td>...</td>\n",
       "      <td>1.475795</td>\n",
       "      <td>-0.486883</td>\n",
       "      <td>0.972102</td>\n",
       "      <td>-0.615200</td>\n",
       "      <td>0.763134</td>\n",
       "      <td>2.484532</td>\n",
       "      <td>0.275596</td>\n",
       "      <td>1.104891</td>\n",
       "      <td>-0.278595</td>\n",
       "      <td>3</td>\n",
       "    </tr>\n",
       "    <tr>\n",
       "      <th>1</th>\n",
       "      <td>1.743081</td>\n",
       "      <td>-0.840572</td>\n",
       "      <td>0.927734</td>\n",
       "      <td>-0.723049</td>\n",
       "      <td>-2.216020</td>\n",
       "      <td>-0.435602</td>\n",
       "      <td>-0.136384</td>\n",
       "      <td>-0.358638</td>\n",
       "      <td>0.187175</td>\n",
       "      <td>-0.565035</td>\n",
       "      <td>...</td>\n",
       "      <td>-1.258524</td>\n",
       "      <td>-0.594574</td>\n",
       "      <td>-1.899380</td>\n",
       "      <td>-0.579961</td>\n",
       "      <td>-1.107359</td>\n",
       "      <td>-1.501877</td>\n",
       "      <td>1.052580</td>\n",
       "      <td>-1.159550</td>\n",
       "      <td>-0.462702</td>\n",
       "      <td>0</td>\n",
       "    </tr>\n",
       "    <tr>\n",
       "      <th>2</th>\n",
       "      <td>-0.106751</td>\n",
       "      <td>0.856518</td>\n",
       "      <td>-0.608445</td>\n",
       "      <td>1.102344</td>\n",
       "      <td>-0.677130</td>\n",
       "      <td>0.329249</td>\n",
       "      <td>-2.577343</td>\n",
       "      <td>1.160718</td>\n",
       "      <td>-0.459258</td>\n",
       "      <td>0.824167</td>\n",
       "      <td>...</td>\n",
       "      <td>-2.079872</td>\n",
       "      <td>1.957477</td>\n",
       "      <td>0.198322</td>\n",
       "      <td>0.234410</td>\n",
       "      <td>1.355009</td>\n",
       "      <td>1.997452</td>\n",
       "      <td>-0.847912</td>\n",
       "      <td>-0.830802</td>\n",
       "      <td>-2.647726</td>\n",
       "      <td>7</td>\n",
       "    </tr>\n",
       "    <tr>\n",
       "      <th>3</th>\n",
       "      <td>-1.469280</td>\n",
       "      <td>-1.203262</td>\n",
       "      <td>0.501453</td>\n",
       "      <td>0.287746</td>\n",
       "      <td>-0.077872</td>\n",
       "      <td>1.793652</td>\n",
       "      <td>-1.028157</td>\n",
       "      <td>-0.134732</td>\n",
       "      <td>1.144584</td>\n",
       "      <td>0.149388</td>\n",
       "      <td>...</td>\n",
       "      <td>0.022398</td>\n",
       "      <td>-1.344601</td>\n",
       "      <td>-0.446137</td>\n",
       "      <td>-0.014755</td>\n",
       "      <td>-0.099773</td>\n",
       "      <td>0.026121</td>\n",
       "      <td>-1.138091</td>\n",
       "      <td>-0.521360</td>\n",
       "      <td>-0.040454</td>\n",
       "      <td>1</td>\n",
       "    </tr>\n",
       "    <tr>\n",
       "      <th>4</th>\n",
       "      <td>-0.575731</td>\n",
       "      <td>1.460513</td>\n",
       "      <td>0.241628</td>\n",
       "      <td>-0.575338</td>\n",
       "      <td>0.225379</td>\n",
       "      <td>0.000698</td>\n",
       "      <td>-0.370717</td>\n",
       "      <td>-1.050895</td>\n",
       "      <td>0.945736</td>\n",
       "      <td>-0.741312</td>\n",
       "      <td>...</td>\n",
       "      <td>-0.401292</td>\n",
       "      <td>-0.549618</td>\n",
       "      <td>-0.566998</td>\n",
       "      <td>-1.759183</td>\n",
       "      <td>0.891341</td>\n",
       "      <td>-0.352540</td>\n",
       "      <td>-0.467855</td>\n",
       "      <td>0.509320</td>\n",
       "      <td>-0.278243</td>\n",
       "      <td>9</td>\n",
       "    </tr>\n",
       "    <tr>\n",
       "      <th>...</th>\n",
       "      <td>...</td>\n",
       "      <td>...</td>\n",
       "      <td>...</td>\n",
       "      <td>...</td>\n",
       "      <td>...</td>\n",
       "      <td>...</td>\n",
       "      <td>...</td>\n",
       "      <td>...</td>\n",
       "      <td>...</td>\n",
       "      <td>...</td>\n",
       "      <td>...</td>\n",
       "      <td>...</td>\n",
       "      <td>...</td>\n",
       "      <td>...</td>\n",
       "      <td>...</td>\n",
       "      <td>...</td>\n",
       "      <td>...</td>\n",
       "      <td>...</td>\n",
       "      <td>...</td>\n",
       "      <td>...</td>\n",
       "      <td>...</td>\n",
       "    </tr>\n",
       "    <tr>\n",
       "      <th>14995</th>\n",
       "      <td>-1.721108</td>\n",
       "      <td>-0.963322</td>\n",
       "      <td>0.209284</td>\n",
       "      <td>0.381090</td>\n",
       "      <td>-0.598483</td>\n",
       "      <td>0.591355</td>\n",
       "      <td>0.494008</td>\n",
       "      <td>-0.365146</td>\n",
       "      <td>0.700676</td>\n",
       "      <td>0.473512</td>\n",
       "      <td>...</td>\n",
       "      <td>-0.007880</td>\n",
       "      <td>-0.491440</td>\n",
       "      <td>0.093326</td>\n",
       "      <td>-0.314783</td>\n",
       "      <td>-0.139908</td>\n",
       "      <td>0.098157</td>\n",
       "      <td>-0.489760</td>\n",
       "      <td>-0.667835</td>\n",
       "      <td>-0.033965</td>\n",
       "      <td>1</td>\n",
       "    </tr>\n",
       "    <tr>\n",
       "      <th>14996</th>\n",
       "      <td>-1.084345</td>\n",
       "      <td>-0.508812</td>\n",
       "      <td>-1.256418</td>\n",
       "      <td>0.956620</td>\n",
       "      <td>0.430325</td>\n",
       "      <td>0.916753</td>\n",
       "      <td>1.210304</td>\n",
       "      <td>-0.151095</td>\n",
       "      <td>-0.074103</td>\n",
       "      <td>-0.211749</td>\n",
       "      <td>...</td>\n",
       "      <td>-1.019185</td>\n",
       "      <td>-0.283277</td>\n",
       "      <td>-1.111604</td>\n",
       "      <td>-0.575489</td>\n",
       "      <td>-1.209714</td>\n",
       "      <td>-1.687370</td>\n",
       "      <td>0.141026</td>\n",
       "      <td>0.977038</td>\n",
       "      <td>-2.434779</td>\n",
       "      <td>4</td>\n",
       "    </tr>\n",
       "    <tr>\n",
       "      <th>14997</th>\n",
       "      <td>-0.560067</td>\n",
       "      <td>1.335239</td>\n",
       "      <td>0.023809</td>\n",
       "      <td>-1.138306</td>\n",
       "      <td>-0.462386</td>\n",
       "      <td>-0.621312</td>\n",
       "      <td>0.048529</td>\n",
       "      <td>-0.400343</td>\n",
       "      <td>-0.727433</td>\n",
       "      <td>-0.347452</td>\n",
       "      <td>...</td>\n",
       "      <td>0.656714</td>\n",
       "      <td>-0.136709</td>\n",
       "      <td>0.023127</td>\n",
       "      <td>0.070555</td>\n",
       "      <td>0.358334</td>\n",
       "      <td>0.657792</td>\n",
       "      <td>-0.318467</td>\n",
       "      <td>-0.700472</td>\n",
       "      <td>-0.099448</td>\n",
       "      <td>9</td>\n",
       "    </tr>\n",
       "    <tr>\n",
       "      <th>14998</th>\n",
       "      <td>-1.382332</td>\n",
       "      <td>-0.458590</td>\n",
       "      <td>-0.258204</td>\n",
       "      <td>0.154268</td>\n",
       "      <td>-0.502646</td>\n",
       "      <td>-1.355896</td>\n",
       "      <td>0.896712</td>\n",
       "      <td>-0.540650</td>\n",
       "      <td>-0.204269</td>\n",
       "      <td>-1.562215</td>\n",
       "      <td>...</td>\n",
       "      <td>1.127802</td>\n",
       "      <td>-0.347486</td>\n",
       "      <td>0.962372</td>\n",
       "      <td>0.412487</td>\n",
       "      <td>-1.135228</td>\n",
       "      <td>0.341656</td>\n",
       "      <td>-0.334898</td>\n",
       "      <td>-0.361370</td>\n",
       "      <td>-0.659665</td>\n",
       "      <td>1</td>\n",
       "    </tr>\n",
       "    <tr>\n",
       "      <th>14999</th>\n",
       "      <td>-0.521837</td>\n",
       "      <td>1.030085</td>\n",
       "      <td>-0.416192</td>\n",
       "      <td>-1.236883</td>\n",
       "      <td>-0.045923</td>\n",
       "      <td>-0.648440</td>\n",
       "      <td>0.377940</td>\n",
       "      <td>-0.677410</td>\n",
       "      <td>-0.950688</td>\n",
       "      <td>-0.563986</td>\n",
       "      <td>...</td>\n",
       "      <td>-0.116591</td>\n",
       "      <td>-0.982656</td>\n",
       "      <td>-0.579808</td>\n",
       "      <td>0.113123</td>\n",
       "      <td>0.773235</td>\n",
       "      <td>-0.399897</td>\n",
       "      <td>0.143100</td>\n",
       "      <td>0.659169</td>\n",
       "      <td>-0.182450</td>\n",
       "      <td>9</td>\n",
       "    </tr>\n",
       "  </tbody>\n",
       "</table>\n",
       "<p>15000 rows × 329 columns</p>\n",
       "</div>"
      ],
      "text/plain": [
       "              0         1         2         3         4         5         6  \\\n",
       "0      0.175973 -0.658436 -0.083468 -1.229670 -0.132142 -0.713115  0.647069   \n",
       "1      1.743081 -0.840572  0.927734 -0.723049 -2.216020 -0.435602 -0.136384   \n",
       "2     -0.106751  0.856518 -0.608445  1.102344 -0.677130  0.329249 -2.577343   \n",
       "3     -1.469280 -1.203262  0.501453  0.287746 -0.077872  1.793652 -1.028157   \n",
       "4     -0.575731  1.460513  0.241628 -0.575338  0.225379  0.000698 -0.370717   \n",
       "...         ...       ...       ...       ...       ...       ...       ...   \n",
       "14995 -1.721108 -0.963322  0.209284  0.381090 -0.598483  0.591355  0.494008   \n",
       "14996 -1.084345 -0.508812 -1.256418  0.956620  0.430325  0.916753  1.210304   \n",
       "14997 -0.560067  1.335239  0.023809 -1.138306 -0.462386 -0.621312  0.048529   \n",
       "14998 -1.382332 -0.458590 -0.258204  0.154268 -0.502646 -1.355896  0.896712   \n",
       "14999 -0.521837  1.030085 -0.416192 -1.236883 -0.045923 -0.648440  0.377940   \n",
       "\n",
       "              7         8         9  ...       319       320       321  \\\n",
       "0      0.225526 -1.307962 -0.561862  ...  1.475795 -0.486883  0.972102   \n",
       "1     -0.358638  0.187175 -0.565035  ... -1.258524 -0.594574 -1.899380   \n",
       "2      1.160718 -0.459258  0.824167  ... -2.079872  1.957477  0.198322   \n",
       "3     -0.134732  1.144584  0.149388  ...  0.022398 -1.344601 -0.446137   \n",
       "4     -1.050895  0.945736 -0.741312  ... -0.401292 -0.549618 -0.566998   \n",
       "...         ...       ...       ...  ...       ...       ...       ...   \n",
       "14995 -0.365146  0.700676  0.473512  ... -0.007880 -0.491440  0.093326   \n",
       "14996 -0.151095 -0.074103 -0.211749  ... -1.019185 -0.283277 -1.111604   \n",
       "14997 -0.400343 -0.727433 -0.347452  ...  0.656714 -0.136709  0.023127   \n",
       "14998 -0.540650 -0.204269 -1.562215  ...  1.127802 -0.347486  0.962372   \n",
       "14999 -0.677410 -0.950688 -0.563986  ... -0.116591 -0.982656 -0.579808   \n",
       "\n",
       "            322       323       324       325       326       327  label  \n",
       "0     -0.615200  0.763134  2.484532  0.275596  1.104891 -0.278595      3  \n",
       "1     -0.579961 -1.107359 -1.501877  1.052580 -1.159550 -0.462702      0  \n",
       "2      0.234410  1.355009  1.997452 -0.847912 -0.830802 -2.647726      7  \n",
       "3     -0.014755 -0.099773  0.026121 -1.138091 -0.521360 -0.040454      1  \n",
       "4     -1.759183  0.891341 -0.352540 -0.467855  0.509320 -0.278243      9  \n",
       "...         ...       ...       ...       ...       ...       ...    ...  \n",
       "14995 -0.314783 -0.139908  0.098157 -0.489760 -0.667835 -0.033965      1  \n",
       "14996 -0.575489 -1.209714 -1.687370  0.141026  0.977038 -2.434779      4  \n",
       "14997  0.070555  0.358334  0.657792 -0.318467 -0.700472 -0.099448      9  \n",
       "14998  0.412487 -1.135228  0.341656 -0.334898 -0.361370 -0.659665      1  \n",
       "14999  0.113123  0.773235 -0.399897  0.143100  0.659169 -0.182450      9  \n",
       "\n",
       "[15000 rows x 329 columns]"
      ]
     },
     "execution_count": 758,
     "metadata": {},
     "output_type": "execute_result"
    }
   ],
   "source": [
    "PCAx = pd.DataFrame(pcax)\n",
    "PCAx['label'] = pd.Series(clusterLabels)\n",
    "PCAx"
   ]
  },
  {
   "attachments": {},
   "cell_type": "markdown",
   "metadata": {},
   "source": [
    "### Generating New Numbers"
   ]
  },
  {
   "cell_type": "code",
   "execution_count": 806,
   "metadata": {},
   "outputs": [],
   "source": [
    "#dividing out the data into exclusive groups\n",
    "oneData = PCAx[PCAx['label'] == '1']\n",
    "twoData = PCAx[PCAx['label'] == '2']\n",
    "threeData = PCAx[PCAx['label'] == '3']\n",
    "fourData = PCAx[PCAx['label'] == '4']\n",
    "fiveData = PCAx[PCAx['label'] == '5']\n",
    "sixData = PCAx[PCAx['label'] == '6']\n",
    "sevenData = PCAx[PCAx['label'] == '7']\n",
    "eightData = PCAx[PCAx['label'] == '8']\n",
    "nineData = PCAx[PCAx['label'] == '9']\n",
    "zeroData = PCAx[PCAx['label'] == '0']"
   ]
  },
  {
   "attachments": {},
   "cell_type": "markdown",
   "metadata": {},
   "source": [
    "### Handwritten Ones"
   ]
  },
  {
   "cell_type": "code",
   "execution_count": 807,
   "metadata": {},
   "outputs": [
    {
     "name": "stderr",
     "output_type": "stream",
     "text": [
      "c:\\Users\\atrsy\\anaconda3\\lib\\site-packages\\sklearn\\cluster\\_kmeans.py:1334: UserWarning: KMeans is known to have a memory leak on Windows with MKL, when there are less chunks than available threads. You can avoid it by setting the environment variable OMP_NUM_THREADS=8.\n",
      "  warnings.warn(\n",
      "c:\\Users\\atrsy\\anaconda3\\lib\\site-packages\\sklearn\\cluster\\_kmeans.py:1334: UserWarning: KMeans is known to have a memory leak on Windows with MKL, when there are less chunks than available threads. You can avoid it by setting the environment variable OMP_NUM_THREADS=8.\n",
      "  warnings.warn(\n",
      "c:\\Users\\atrsy\\anaconda3\\lib\\site-packages\\sklearn\\cluster\\_kmeans.py:1334: UserWarning: KMeans is known to have a memory leak on Windows with MKL, when there are less chunks than available threads. You can avoid it by setting the environment variable OMP_NUM_THREADS=8.\n",
      "  warnings.warn(\n",
      "c:\\Users\\atrsy\\anaconda3\\lib\\site-packages\\sklearn\\cluster\\_kmeans.py:1334: UserWarning: KMeans is known to have a memory leak on Windows with MKL, when there are less chunks than available threads. You can avoid it by setting the environment variable OMP_NUM_THREADS=8.\n",
      "  warnings.warn(\n",
      "c:\\Users\\atrsy\\anaconda3\\lib\\site-packages\\sklearn\\cluster\\_kmeans.py:1334: UserWarning: KMeans is known to have a memory leak on Windows with MKL, when there are less chunks than available threads. You can avoid it by setting the environment variable OMP_NUM_THREADS=8.\n",
      "  warnings.warn(\n"
     ]
    },
    {
     "data": {
      "text/plain": [
       "[<matplotlib.lines.Line2D at 0x1c0a3aef850>]"
      ]
     },
     "execution_count": 807,
     "metadata": {},
     "output_type": "execute_result"
    },
    {
     "data": {
      "image/png": "[encoded data removed]",
      "text/plain": [
       "<Figure size 432x288 with 1 Axes>"
      ]
     },
     "metadata": {},
     "output_type": "display_data"
    }
   ],
   "source": [
    "#identifing the optimal number of components for gmm\n",
    "n_components = np.arange(15, 20)\n",
    "models = [GaussianMixture(n, covariance_type='full', random_state=0)\n",
    "         for n in n_components]\n",
    "aics = [model.fit(oneData.drop(columns=['label'])).aic(oneData.drop(columns=['label'])) for model in models]\n",
    "plt.plot(n_components, aics)"
   ]
  },
  {
   "cell_type": "code",
   "execution_count": 808,
   "metadata": {},
   "outputs": [
    {
     "name": "stderr",
     "output_type": "stream",
     "text": [
      "c:\\Users\\atrsy\\anaconda3\\lib\\site-packages\\sklearn\\cluster\\_kmeans.py:1334: UserWarning: KMeans is known to have a memory leak on Windows with MKL, when there are less chunks than available threads. You can avoid it by setting the environment variable OMP_NUM_THREADS=8.\n",
      "  warnings.warn(\n"
     ]
    },
    {
     "name": "stdout",
     "output_type": "stream",
     "text": [
      "True\n"
     ]
    }
   ],
   "source": [
    "gmm1 = GaussianMixture(17, covariance_type='full')\n",
    "gmm1.fit(oneData.drop(columns=['label']))\n",
    "print(gmm.converged_)"
   ]
  },
  {
   "attachments": {},
   "cell_type": "markdown",
   "metadata": {},
   "source": [
    "### Handwritten Twos"
   ]
  },
  {
   "cell_type": "code",
   "execution_count": 809,
   "metadata": {},
   "outputs": [
    {
     "name": "stderr",
     "output_type": "stream",
     "text": [
      "c:\\Users\\atrsy\\anaconda3\\lib\\site-packages\\sklearn\\cluster\\_kmeans.py:1334: UserWarning: KMeans is known to have a memory leak on Windows with MKL, when there are less chunks than available threads. You can avoid it by setting the environment variable OMP_NUM_THREADS=4.\n",
      "  warnings.warn(\n",
      "c:\\Users\\atrsy\\anaconda3\\lib\\site-packages\\sklearn\\cluster\\_kmeans.py:1334: UserWarning: KMeans is known to have a memory leak on Windows with MKL, when there are less chunks than available threads. You can avoid it by setting the environment variable OMP_NUM_THREADS=4.\n",
      "  warnings.warn(\n",
      "c:\\Users\\atrsy\\anaconda3\\lib\\site-packages\\sklearn\\cluster\\_kmeans.py:1334: UserWarning: KMeans is known to have a memory leak on Windows with MKL, when there are less chunks than available threads. You can avoid it by setting the environment variable OMP_NUM_THREADS=4.\n",
      "  warnings.warn(\n",
      "c:\\Users\\atrsy\\anaconda3\\lib\\site-packages\\sklearn\\cluster\\_kmeans.py:1334: UserWarning: KMeans is known to have a memory leak on Windows with MKL, when there are less chunks than available threads. You can avoid it by setting the environment variable OMP_NUM_THREADS=4.\n",
      "  warnings.warn(\n",
      "c:\\Users\\atrsy\\anaconda3\\lib\\site-packages\\sklearn\\cluster\\_kmeans.py:1334: UserWarning: KMeans is known to have a memory leak on Windows with MKL, when there are less chunks than available threads. You can avoid it by setting the environment variable OMP_NUM_THREADS=4.\n",
      "  warnings.warn(\n"
     ]
    },
    {
     "data": {
      "text/plain": [
       "[<matplotlib.lines.Line2D at 0x1c0a68c1190>]"
      ]
     },
     "execution_count": 809,
     "metadata": {},
     "output_type": "execute_result"
    },
    {
     "data": {
      "image/png": "[encoded data removed]",
      "text/plain": [
       "<Figure size 432x288 with 1 Axes>"
      ]
     },
     "metadata": {},
     "output_type": "display_data"
    }
   ],
   "source": [
    "#identifing the optimal number of components for gmm\n",
    "n_components = np.arange(15, 20)\n",
    "models = [GaussianMixture(n, covariance_type='full', random_state=0)\n",
    "         for n in n_components]\n",
    "aics = [model.fit(twoData.drop(columns=['label'])).aic(twoData.drop(columns=['label'])) for model in models]\n",
    "plt.plot(n_components, aics)"
   ]
  },
  {
   "cell_type": "code",
   "execution_count": 810,
   "metadata": {},
   "outputs": [
    {
     "name": "stderr",
     "output_type": "stream",
     "text": [
      "c:\\Users\\atrsy\\anaconda3\\lib\\site-packages\\sklearn\\cluster\\_kmeans.py:1334: UserWarning: KMeans is known to have a memory leak on Windows with MKL, when there are less chunks than available threads. You can avoid it by setting the environment variable OMP_NUM_THREADS=4.\n",
      "  warnings.warn(\n"
     ]
    },
    {
     "name": "stdout",
     "output_type": "stream",
     "text": [
      "True\n"
     ]
    }
   ],
   "source": [
    "gmm2 = GaussianMixture(16, covariance_type='full')\n",
    "gmm2.fit(twoData.drop(columns=['label']))\n",
    "print(gmm.converged_)"
   ]
  },
  {
   "attachments": {},
   "cell_type": "markdown",
   "metadata": {},
   "source": [
    "### Handwritten Threes"
   ]
  },
  {
   "cell_type": "code",
   "execution_count": 811,
   "metadata": {},
   "outputs": [
    {
     "name": "stderr",
     "output_type": "stream",
     "text": [
      "c:\\Users\\atrsy\\anaconda3\\lib\\site-packages\\sklearn\\cluster\\_kmeans.py:1334: UserWarning: KMeans is known to have a memory leak on Windows with MKL, when there are less chunks than available threads. You can avoid it by setting the environment variable OMP_NUM_THREADS=9.\n",
      "  warnings.warn(\n",
      "c:\\Users\\atrsy\\anaconda3\\lib\\site-packages\\sklearn\\cluster\\_kmeans.py:1334: UserWarning: KMeans is known to have a memory leak on Windows with MKL, when there are less chunks than available threads. You can avoid it by setting the environment variable OMP_NUM_THREADS=9.\n",
      "  warnings.warn(\n",
      "c:\\Users\\atrsy\\anaconda3\\lib\\site-packages\\sklearn\\cluster\\_kmeans.py:1334: UserWarning: KMeans is known to have a memory leak on Windows with MKL, when there are less chunks than available threads. You can avoid it by setting the environment variable OMP_NUM_THREADS=9.\n",
      "  warnings.warn(\n",
      "c:\\Users\\atrsy\\anaconda3\\lib\\site-packages\\sklearn\\cluster\\_kmeans.py:1334: UserWarning: KMeans is known to have a memory leak on Windows with MKL, when there are less chunks than available threads. You can avoid it by setting the environment variable OMP_NUM_THREADS=9.\n",
      "  warnings.warn(\n",
      "c:\\Users\\atrsy\\anaconda3\\lib\\site-packages\\sklearn\\cluster\\_kmeans.py:1334: UserWarning: KMeans is known to have a memory leak on Windows with MKL, when there are less chunks than available threads. You can avoid it by setting the environment variable OMP_NUM_THREADS=9.\n",
      "  warnings.warn(\n"
     ]
    },
    {
     "data": {
      "text/plain": [
       "[<matplotlib.lines.Line2D at 0x1c0b49c5bb0>]"
      ]
     },
     "execution_count": 811,
     "metadata": {},
     "output_type": "execute_result"
    },
    {
     "data": {
      "image/png": "[encoded data removed]",
      "text/plain": [
       "<Figure size 432x288 with 1 Axes>"
      ]
     },
     "metadata": {},
     "output_type": "display_data"
    }
   ],
   "source": [
    "#identifing the optimal number of components for gmm\n",
    "n_components = np.arange(18, 23)\n",
    "models = [GaussianMixture(n, covariance_type='full', random_state=0)\n",
    "         for n in n_components]\n",
    "aics = [model.fit(threeData.drop(columns=['label'])).aic(threeData.drop(columns=['label'])) for model in models]\n",
    "plt.plot(n_components, aics)"
   ]
  },
  {
   "cell_type": "code",
   "execution_count": 812,
   "metadata": {},
   "outputs": [
    {
     "name": "stderr",
     "output_type": "stream",
     "text": [
      "c:\\Users\\atrsy\\anaconda3\\lib\\site-packages\\sklearn\\cluster\\_kmeans.py:1334: UserWarning: KMeans is known to have a memory leak on Windows with MKL, when there are less chunks than available threads. You can avoid it by setting the environment variable OMP_NUM_THREADS=9.\n",
      "  warnings.warn(\n"
     ]
    },
    {
     "name": "stdout",
     "output_type": "stream",
     "text": [
      "True\n"
     ]
    }
   ],
   "source": [
    "gmm3 = GaussianMixture(20, covariance_type='full')\n",
    "gmm3.fit(threeData.drop(columns=['label']))\n",
    "print(gmm.converged_)"
   ]
  },
  {
   "attachments": {},
   "cell_type": "markdown",
   "metadata": {},
   "source": [
    "### Handwritten Fours"
   ]
  },
  {
   "cell_type": "code",
   "execution_count": 813,
   "metadata": {},
   "outputs": [
    {
     "name": "stderr",
     "output_type": "stream",
     "text": [
      "c:\\Users\\atrsy\\anaconda3\\lib\\site-packages\\sklearn\\cluster\\_kmeans.py:1334: UserWarning: KMeans is known to have a memory leak on Windows with MKL, when there are less chunks than available threads. You can avoid it by setting the environment variable OMP_NUM_THREADS=6.\n",
      "  warnings.warn(\n",
      "c:\\Users\\atrsy\\anaconda3\\lib\\site-packages\\sklearn\\cluster\\_kmeans.py:1334: UserWarning: KMeans is known to have a memory leak on Windows with MKL, when there are less chunks than available threads. You can avoid it by setting the environment variable OMP_NUM_THREADS=6.\n",
      "  warnings.warn(\n",
      "c:\\Users\\atrsy\\anaconda3\\lib\\site-packages\\sklearn\\cluster\\_kmeans.py:1334: UserWarning: KMeans is known to have a memory leak on Windows with MKL, when there are less chunks than available threads. You can avoid it by setting the environment variable OMP_NUM_THREADS=6.\n",
      "  warnings.warn(\n",
      "c:\\Users\\atrsy\\anaconda3\\lib\\site-packages\\sklearn\\cluster\\_kmeans.py:1334: UserWarning: KMeans is known to have a memory leak on Windows with MKL, when there are less chunks than available threads. You can avoid it by setting the environment variable OMP_NUM_THREADS=6.\n",
      "  warnings.warn(\n",
      "c:\\Users\\atrsy\\anaconda3\\lib\\site-packages\\sklearn\\cluster\\_kmeans.py:1334: UserWarning: KMeans is known to have a memory leak on Windows with MKL, when there are less chunks than available threads. You can avoid it by setting the environment variable OMP_NUM_THREADS=6.\n",
      "  warnings.warn(\n"
     ]
    },
    {
     "data": {
      "text/plain": [
       "[<matplotlib.lines.Line2D at 0x1c09dc6fa60>]"
      ]
     },
     "execution_count": 813,
     "metadata": {},
     "output_type": "execute_result"
    },
    {
     "data": {
      "image/png": "[encoded data removed]",
      "text/plain": [
       "<Figure size 432x288 with 1 Axes>"
      ]
     },
     "metadata": {},
     "output_type": "display_data"
    }
   ],
   "source": [
    "#identifing the optimal number of components for gmm\n",
    "n_components = np.arange(15, 20)\n",
    "models = [GaussianMixture(n, covariance_type='full', random_state=0)\n",
    "         for n in n_components]\n",
    "aics = [model.fit(fourData.drop(columns=['label'])).aic(fourData.drop(columns=['label'])) for model in models]\n",
    "plt.plot(n_components, aics)"
   ]
  },
  {
   "cell_type": "code",
   "execution_count": 814,
   "metadata": {},
   "outputs": [
    {
     "name": "stderr",
     "output_type": "stream",
     "text": [
      "c:\\Users\\atrsy\\anaconda3\\lib\\site-packages\\sklearn\\cluster\\_kmeans.py:1334: UserWarning: KMeans is known to have a memory leak on Windows with MKL, when there are less chunks than available threads. You can avoid it by setting the environment variable OMP_NUM_THREADS=6.\n",
      "  warnings.warn(\n"
     ]
    },
    {
     "name": "stdout",
     "output_type": "stream",
     "text": [
      "True\n"
     ]
    }
   ],
   "source": [
    "gmm4 = GaussianMixture(16, covariance_type='full')\n",
    "gmm4.fit(fourData.drop(columns=['label']))\n",
    "print(gmm.converged_)"
   ]
  },
  {
   "attachments": {},
   "cell_type": "markdown",
   "metadata": {},
   "source": [
    "### Handwritten Fives"
   ]
  },
  {
   "cell_type": "code",
   "execution_count": 815,
   "metadata": {},
   "outputs": [
    {
     "name": "stderr",
     "output_type": "stream",
     "text": [
      "c:\\Users\\atrsy\\anaconda3\\lib\\site-packages\\sklearn\\cluster\\_kmeans.py:1334: UserWarning: KMeans is known to have a memory leak on Windows with MKL, when there are less chunks than available threads. You can avoid it by setting the environment variable OMP_NUM_THREADS=4.\n",
      "  warnings.warn(\n",
      "c:\\Users\\atrsy\\anaconda3\\lib\\site-packages\\sklearn\\cluster\\_kmeans.py:1334: UserWarning: KMeans is known to have a memory leak on Windows with MKL, when there are less chunks than available threads. You can avoid it by setting the environment variable OMP_NUM_THREADS=4.\n",
      "  warnings.warn(\n",
      "c:\\Users\\atrsy\\anaconda3\\lib\\site-packages\\sklearn\\cluster\\_kmeans.py:1334: UserWarning: KMeans is known to have a memory leak on Windows with MKL, when there are less chunks than available threads. You can avoid it by setting the environment variable OMP_NUM_THREADS=4.\n",
      "  warnings.warn(\n",
      "c:\\Users\\atrsy\\anaconda3\\lib\\site-packages\\sklearn\\cluster\\_kmeans.py:1334: UserWarning: KMeans is known to have a memory leak on Windows with MKL, when there are less chunks than available threads. You can avoid it by setting the environment variable OMP_NUM_THREADS=4.\n",
      "  warnings.warn(\n",
      "c:\\Users\\atrsy\\anaconda3\\lib\\site-packages\\sklearn\\cluster\\_kmeans.py:1334: UserWarning: KMeans is known to have a memory leak on Windows with MKL, when there are less chunks than available threads. You can avoid it by setting the environment variable OMP_NUM_THREADS=4.\n",
      "  warnings.warn(\n",
      "c:\\Users\\atrsy\\anaconda3\\lib\\site-packages\\sklearn\\cluster\\_kmeans.py:1334: UserWarning: KMeans is known to have a memory leak on Windows with MKL, when there are less chunks than available threads. You can avoid it by setting the environment variable OMP_NUM_THREADS=4.\n",
      "  warnings.warn(\n"
     ]
    },
    {
     "data": {
      "text/plain": [
       "[<matplotlib.lines.Line2D at 0x1c0a2457a30>]"
      ]
     },
     "execution_count": 815,
     "metadata": {},
     "output_type": "execute_result"
    },
    {
     "data": {
      "image/png": "[encoded data removed]",
      "text/plain": [
       "<Figure size 432x288 with 1 Axes>"
      ]
     },
     "metadata": {},
     "output_type": "display_data"
    }
   ],
   "source": [
    "#identifing the optimal number of components for gmm\n",
    "n_components = np.arange(10, 16)\n",
    "models = [GaussianMixture(n, covariance_type='full', random_state=0)\n",
    "         for n in n_components]\n",
    "aics = [model.fit(fiveData.drop(columns=['label'])).aic(fiveData.drop(columns=['label'])) for model in models]\n",
    "plt.plot(n_components, aics)"
   ]
  },
  {
   "cell_type": "code",
   "execution_count": 816,
   "metadata": {},
   "outputs": [
    {
     "name": "stderr",
     "output_type": "stream",
     "text": [
      "c:\\Users\\atrsy\\anaconda3\\lib\\site-packages\\sklearn\\cluster\\_kmeans.py:1334: UserWarning: KMeans is known to have a memory leak on Windows with MKL, when there are less chunks than available threads. You can avoid it by setting the environment variable OMP_NUM_THREADS=4.\n",
      "  warnings.warn(\n"
     ]
    },
    {
     "name": "stdout",
     "output_type": "stream",
     "text": [
      "True\n"
     ]
    }
   ],
   "source": [
    "gmm5 = GaussianMixture(12, covariance_type='full')\n",
    "gmm5.fit(fiveData.drop(columns=['label']))\n",
    "print(gmm.converged_)"
   ]
  },
  {
   "attachments": {},
   "cell_type": "markdown",
   "metadata": {},
   "source": [
    "### Handwritten Sixes"
   ]
  },
  {
   "cell_type": "code",
   "execution_count": 817,
   "metadata": {},
   "outputs": [
    {
     "name": "stderr",
     "output_type": "stream",
     "text": [
      "c:\\Users\\atrsy\\anaconda3\\lib\\site-packages\\sklearn\\cluster\\_kmeans.py:1334: UserWarning: KMeans is known to have a memory leak on Windows with MKL, when there are less chunks than available threads. You can avoid it by setting the environment variable OMP_NUM_THREADS=7.\n",
      "  warnings.warn(\n",
      "c:\\Users\\atrsy\\anaconda3\\lib\\site-packages\\sklearn\\cluster\\_kmeans.py:1334: UserWarning: KMeans is known to have a memory leak on Windows with MKL, when there are less chunks than available threads. You can avoid it by setting the environment variable OMP_NUM_THREADS=7.\n",
      "  warnings.warn(\n",
      "c:\\Users\\atrsy\\anaconda3\\lib\\site-packages\\sklearn\\cluster\\_kmeans.py:1334: UserWarning: KMeans is known to have a memory leak on Windows with MKL, when there are less chunks than available threads. You can avoid it by setting the environment variable OMP_NUM_THREADS=7.\n",
      "  warnings.warn(\n",
      "c:\\Users\\atrsy\\anaconda3\\lib\\site-packages\\sklearn\\cluster\\_kmeans.py:1334: UserWarning: KMeans is known to have a memory leak on Windows with MKL, when there are less chunks than available threads. You can avoid it by setting the environment variable OMP_NUM_THREADS=7.\n",
      "  warnings.warn(\n",
      "c:\\Users\\atrsy\\anaconda3\\lib\\site-packages\\sklearn\\cluster\\_kmeans.py:1334: UserWarning: KMeans is known to have a memory leak on Windows with MKL, when there are less chunks than available threads. You can avoid it by setting the environment variable OMP_NUM_THREADS=7.\n",
      "  warnings.warn(\n",
      "c:\\Users\\atrsy\\anaconda3\\lib\\site-packages\\sklearn\\cluster\\_kmeans.py:1334: UserWarning: KMeans is known to have a memory leak on Windows with MKL, when there are less chunks than available threads. You can avoid it by setting the environment variable OMP_NUM_THREADS=7.\n",
      "  warnings.warn(\n"
     ]
    },
    {
     "data": {
      "text/plain": [
       "[<matplotlib.lines.Line2D at 0x1c0ac1ad700>]"
      ]
     },
     "execution_count": 817,
     "metadata": {},
     "output_type": "execute_result"
    },
    {
     "data": {
      "image/png": "[encoded data removed]",
      "text/plain": [
       "<Figure size 432x288 with 1 Axes>"
      ]
     },
     "metadata": {},
     "output_type": "display_data"
    }
   ],
   "source": [
    "#identifing the optimal number of components for gmm\n",
    "n_components = np.arange(18, 24)\n",
    "models = [GaussianMixture(n, covariance_type='full', random_state=0)\n",
    "         for n in n_components]\n",
    "aics = [model.fit(sixData.drop(columns=['label'])).aic(sixData.drop(columns=['label'])) for model in models]\n",
    "plt.plot(n_components, aics)"
   ]
  },
  {
   "cell_type": "code",
   "execution_count": 818,
   "metadata": {},
   "outputs": [
    {
     "name": "stderr",
     "output_type": "stream",
     "text": [
      "c:\\Users\\atrsy\\anaconda3\\lib\\site-packages\\sklearn\\cluster\\_kmeans.py:1334: UserWarning: KMeans is known to have a memory leak on Windows with MKL, when there are less chunks than available threads. You can avoid it by setting the environment variable OMP_NUM_THREADS=7.\n",
      "  warnings.warn(\n"
     ]
    },
    {
     "name": "stdout",
     "output_type": "stream",
     "text": [
      "True\n"
     ]
    }
   ],
   "source": [
    "gmm6 = GaussianMixture(19, covariance_type='full')\n",
    "gmm6.fit(sixData.drop(columns=['label']))\n",
    "print(gmm.converged_)"
   ]
  },
  {
   "attachments": {},
   "cell_type": "markdown",
   "metadata": {},
   "source": [
    "### Handwritten Sevens"
   ]
  },
  {
   "cell_type": "code",
   "execution_count": 819,
   "metadata": {},
   "outputs": [
    {
     "name": "stderr",
     "output_type": "stream",
     "text": [
      "c:\\Users\\atrsy\\anaconda3\\lib\\site-packages\\sklearn\\cluster\\_kmeans.py:1334: UserWarning: KMeans is known to have a memory leak on Windows with MKL, when there are less chunks than available threads. You can avoid it by setting the environment variable OMP_NUM_THREADS=5.\n",
      "  warnings.warn(\n",
      "c:\\Users\\atrsy\\anaconda3\\lib\\site-packages\\sklearn\\cluster\\_kmeans.py:1334: UserWarning: KMeans is known to have a memory leak on Windows with MKL, when there are less chunks than available threads. You can avoid it by setting the environment variable OMP_NUM_THREADS=5.\n",
      "  warnings.warn(\n",
      "c:\\Users\\atrsy\\anaconda3\\lib\\site-packages\\sklearn\\cluster\\_kmeans.py:1334: UserWarning: KMeans is known to have a memory leak on Windows with MKL, when there are less chunks than available threads. You can avoid it by setting the environment variable OMP_NUM_THREADS=5.\n",
      "  warnings.warn(\n",
      "c:\\Users\\atrsy\\anaconda3\\lib\\site-packages\\sklearn\\cluster\\_kmeans.py:1334: UserWarning: KMeans is known to have a memory leak on Windows with MKL, when there are less chunks than available threads. You can avoid it by setting the environment variable OMP_NUM_THREADS=5.\n",
      "  warnings.warn(\n",
      "c:\\Users\\atrsy\\anaconda3\\lib\\site-packages\\sklearn\\cluster\\_kmeans.py:1334: UserWarning: KMeans is known to have a memory leak on Windows with MKL, when there are less chunks than available threads. You can avoid it by setting the environment variable OMP_NUM_THREADS=5.\n",
      "  warnings.warn(\n",
      "c:\\Users\\atrsy\\anaconda3\\lib\\site-packages\\sklearn\\cluster\\_kmeans.py:1334: UserWarning: KMeans is known to have a memory leak on Windows with MKL, when there are less chunks than available threads. You can avoid it by setting the environment variable OMP_NUM_THREADS=5.\n",
      "  warnings.warn(\n"
     ]
    },
    {
     "data": {
      "text/plain": [
       "[<matplotlib.lines.Line2D at 0x1c09cc71b50>]"
      ]
     },
     "execution_count": 819,
     "metadata": {},
     "output_type": "execute_result"
    },
    {
     "data": {
      "image/png": "[encoded data removed]",
      "text/plain": [
       "<Figure size 432x288 with 1 Axes>"
      ]
     },
     "metadata": {},
     "output_type": "display_data"
    }
   ],
   "source": [
    "#identifing the optimal number of components for gmm\n",
    "n_components = np.arange(10, 16)\n",
    "models = [GaussianMixture(n, covariance_type='full', random_state=0)\n",
    "         for n in n_components]\n",
    "aics = [model.fit(sevenData.drop(columns=['label'])).aic(sevenData.drop(columns=['label'])) for model in models]\n",
    "plt.plot(n_components, aics)"
   ]
  },
  {
   "cell_type": "code",
   "execution_count": 820,
   "metadata": {},
   "outputs": [
    {
     "name": "stderr",
     "output_type": "stream",
     "text": [
      "c:\\Users\\atrsy\\anaconda3\\lib\\site-packages\\sklearn\\cluster\\_kmeans.py:1334: UserWarning: KMeans is known to have a memory leak on Windows with MKL, when there are less chunks than available threads. You can avoid it by setting the environment variable OMP_NUM_THREADS=5.\n",
      "  warnings.warn(\n"
     ]
    },
    {
     "name": "stdout",
     "output_type": "stream",
     "text": [
      "True\n"
     ]
    }
   ],
   "source": [
    "gmm7 = GaussianMixture(13, covariance_type='full')\n",
    "gmm7.fit(sevenData.drop(columns=['label']))\n",
    "print(gmm.converged_)"
   ]
  },
  {
   "attachments": {},
   "cell_type": "markdown",
   "metadata": {},
   "source": [
    "### Handwritten Eights"
   ]
  },
  {
   "cell_type": "code",
   "execution_count": 821,
   "metadata": {},
   "outputs": [
    {
     "name": "stderr",
     "output_type": "stream",
     "text": [
      "c:\\Users\\atrsy\\anaconda3\\lib\\site-packages\\sklearn\\cluster\\_kmeans.py:1334: UserWarning: KMeans is known to have a memory leak on Windows with MKL, when there are less chunks than available threads. You can avoid it by setting the environment variable OMP_NUM_THREADS=5.\n",
      "  warnings.warn(\n",
      "c:\\Users\\atrsy\\anaconda3\\lib\\site-packages\\sklearn\\cluster\\_kmeans.py:1334: UserWarning: KMeans is known to have a memory leak on Windows with MKL, when there are less chunks than available threads. You can avoid it by setting the environment variable OMP_NUM_THREADS=5.\n",
      "  warnings.warn(\n",
      "c:\\Users\\atrsy\\anaconda3\\lib\\site-packages\\sklearn\\cluster\\_kmeans.py:1334: UserWarning: KMeans is known to have a memory leak on Windows with MKL, when there are less chunks than available threads. You can avoid it by setting the environment variable OMP_NUM_THREADS=5.\n",
      "  warnings.warn(\n",
      "c:\\Users\\atrsy\\anaconda3\\lib\\site-packages\\sklearn\\cluster\\_kmeans.py:1334: UserWarning: KMeans is known to have a memory leak on Windows with MKL, when there are less chunks than available threads. You can avoid it by setting the environment variable OMP_NUM_THREADS=5.\n",
      "  warnings.warn(\n",
      "c:\\Users\\atrsy\\anaconda3\\lib\\site-packages\\sklearn\\cluster\\_kmeans.py:1334: UserWarning: KMeans is known to have a memory leak on Windows with MKL, when there are less chunks than available threads. You can avoid it by setting the environment variable OMP_NUM_THREADS=5.\n",
      "  warnings.warn(\n",
      "c:\\Users\\atrsy\\anaconda3\\lib\\site-packages\\sklearn\\cluster\\_kmeans.py:1334: UserWarning: KMeans is known to have a memory leak on Windows with MKL, when there are less chunks than available threads. You can avoid it by setting the environment variable OMP_NUM_THREADS=5.\n",
      "  warnings.warn(\n"
     ]
    },
    {
     "data": {
      "text/plain": [
       "[<matplotlib.lines.Line2D at 0x1c09cc16400>]"
      ]
     },
     "execution_count": 821,
     "metadata": {},
     "output_type": "execute_result"
    },
    {
     "data": {
      "image/png": "[encoded data removed]",
      "text/plain": [
       "<Figure size 432x288 with 1 Axes>"
      ]
     },
     "metadata": {},
     "output_type": "display_data"
    }
   ],
   "source": [
    "#identifing the optimal number of components for gmm\n",
    "n_components = np.arange(10, 16)\n",
    "models = [GaussianMixture(n, covariance_type='full', random_state=0)\n",
    "         for n in n_components]\n",
    "aics = [model.fit(eightData.drop(columns=['label'])).aic(eightData.drop(columns=['label'])) for model in models]\n",
    "plt.plot(n_components, aics)"
   ]
  },
  {
   "cell_type": "code",
   "execution_count": 822,
   "metadata": {},
   "outputs": [
    {
     "name": "stderr",
     "output_type": "stream",
     "text": [
      "c:\\Users\\atrsy\\anaconda3\\lib\\site-packages\\sklearn\\cluster\\_kmeans.py:1334: UserWarning: KMeans is known to have a memory leak on Windows with MKL, when there are less chunks than available threads. You can avoid it by setting the environment variable OMP_NUM_THREADS=5.\n",
      "  warnings.warn(\n"
     ]
    },
    {
     "name": "stdout",
     "output_type": "stream",
     "text": [
      "True\n"
     ]
    }
   ],
   "source": [
    "gmm8 = GaussianMixture(13, covariance_type='full')\n",
    "gmm8.fit(eightData.drop(columns=['label']))\n",
    "print(gmm.converged_)"
   ]
  },
  {
   "attachments": {},
   "cell_type": "markdown",
   "metadata": {},
   "source": [
    "### Handwritten Nines"
   ]
  },
  {
   "cell_type": "code",
   "execution_count": 823,
   "metadata": {},
   "outputs": [
    {
     "name": "stderr",
     "output_type": "stream",
     "text": [
      "c:\\Users\\atrsy\\anaconda3\\lib\\site-packages\\sklearn\\cluster\\_kmeans.py:1334: UserWarning: KMeans is known to have a memory leak on Windows with MKL, when there are less chunks than available threads. You can avoid it by setting the environment variable OMP_NUM_THREADS=8.\n",
      "  warnings.warn(\n",
      "c:\\Users\\atrsy\\anaconda3\\lib\\site-packages\\sklearn\\cluster\\_kmeans.py:1334: UserWarning: KMeans is known to have a memory leak on Windows with MKL, when there are less chunks than available threads. You can avoid it by setting the environment variable OMP_NUM_THREADS=8.\n",
      "  warnings.warn(\n",
      "c:\\Users\\atrsy\\anaconda3\\lib\\site-packages\\sklearn\\cluster\\_kmeans.py:1334: UserWarning: KMeans is known to have a memory leak on Windows with MKL, when there are less chunks than available threads. You can avoid it by setting the environment variable OMP_NUM_THREADS=8.\n",
      "  warnings.warn(\n",
      "c:\\Users\\atrsy\\anaconda3\\lib\\site-packages\\sklearn\\cluster\\_kmeans.py:1334: UserWarning: KMeans is known to have a memory leak on Windows with MKL, when there are less chunks than available threads. You can avoid it by setting the environment variable OMP_NUM_THREADS=8.\n",
      "  warnings.warn(\n",
      "c:\\Users\\atrsy\\anaconda3\\lib\\site-packages\\sklearn\\cluster\\_kmeans.py:1334: UserWarning: KMeans is known to have a memory leak on Windows with MKL, when there are less chunks than available threads. You can avoid it by setting the environment variable OMP_NUM_THREADS=8.\n",
      "  warnings.warn(\n",
      "c:\\Users\\atrsy\\anaconda3\\lib\\site-packages\\sklearn\\cluster\\_kmeans.py:1334: UserWarning: KMeans is known to have a memory leak on Windows with MKL, when there are less chunks than available threads. You can avoid it by setting the environment variable OMP_NUM_THREADS=8.\n",
      "  warnings.warn(\n",
      "c:\\Users\\atrsy\\anaconda3\\lib\\site-packages\\sklearn\\cluster\\_kmeans.py:1334: UserWarning: KMeans is known to have a memory leak on Windows with MKL, when there are less chunks than available threads. You can avoid it by setting the environment variable OMP_NUM_THREADS=8.\n",
      "  warnings.warn(\n"
     ]
    },
    {
     "data": {
      "text/plain": [
       "[<matplotlib.lines.Line2D at 0x1c25595ce20>]"
      ]
     },
     "execution_count": 823,
     "metadata": {},
     "output_type": "execute_result"
    },
    {
     "data": {
      "image/png": "[encoded data removed]",
      "text/plain": [
       "<Figure size 432x288 with 1 Axes>"
      ]
     },
     "metadata": {},
     "output_type": "display_data"
    }
   ],
   "source": [
    "#identifing the optimal number of components for gmm\n",
    "n_components = np.arange(18, 25)\n",
    "models = [GaussianMixture(n, covariance_type='full', random_state=0)\n",
    "         for n in n_components]\n",
    "aics = [model.fit(nineData.drop(columns=['label'])).aic(nineData.drop(columns=['label'])) for model in models]\n",
    "plt.plot(n_components, aics)"
   ]
  },
  {
   "cell_type": "code",
   "execution_count": 824,
   "metadata": {},
   "outputs": [
    {
     "name": "stderr",
     "output_type": "stream",
     "text": [
      "c:\\Users\\atrsy\\anaconda3\\lib\\site-packages\\sklearn\\cluster\\_kmeans.py:1334: UserWarning: KMeans is known to have a memory leak on Windows with MKL, when there are less chunks than available threads. You can avoid it by setting the environment variable OMP_NUM_THREADS=8.\n",
      "  warnings.warn(\n"
     ]
    },
    {
     "name": "stdout",
     "output_type": "stream",
     "text": [
      "True\n"
     ]
    }
   ],
   "source": [
    "gmm9 = GaussianMixture(20, covariance_type='full')\n",
    "gmm9.fit(nineData.drop(columns=['label']))\n",
    "print(gmm.converged_)"
   ]
  },
  {
   "attachments": {},
   "cell_type": "markdown",
   "metadata": {},
   "source": [
    "### Handwritten Zeroes"
   ]
  },
  {
   "cell_type": "code",
   "execution_count": 825,
   "metadata": {},
   "outputs": [
    {
     "name": "stderr",
     "output_type": "stream",
     "text": [
      "c:\\Users\\atrsy\\anaconda3\\lib\\site-packages\\sklearn\\cluster\\_kmeans.py:1334: UserWarning: KMeans is known to have a memory leak on Windows with MKL, when there are less chunks than available threads. You can avoid it by setting the environment variable OMP_NUM_THREADS=7.\n",
      "  warnings.warn(\n",
      "c:\\Users\\atrsy\\anaconda3\\lib\\site-packages\\sklearn\\cluster\\_kmeans.py:1334: UserWarning: KMeans is known to have a memory leak on Windows with MKL, when there are less chunks than available threads. You can avoid it by setting the environment variable OMP_NUM_THREADS=7.\n",
      "  warnings.warn(\n",
      "c:\\Users\\atrsy\\anaconda3\\lib\\site-packages\\sklearn\\cluster\\_kmeans.py:1334: UserWarning: KMeans is known to have a memory leak on Windows with MKL, when there are less chunks than available threads. You can avoid it by setting the environment variable OMP_NUM_THREADS=7.\n",
      "  warnings.warn(\n",
      "c:\\Users\\atrsy\\anaconda3\\lib\\site-packages\\sklearn\\cluster\\_kmeans.py:1334: UserWarning: KMeans is known to have a memory leak on Windows with MKL, when there are less chunks than available threads. You can avoid it by setting the environment variable OMP_NUM_THREADS=7.\n",
      "  warnings.warn(\n",
      "c:\\Users\\atrsy\\anaconda3\\lib\\site-packages\\sklearn\\cluster\\_kmeans.py:1334: UserWarning: KMeans is known to have a memory leak on Windows with MKL, when there are less chunks than available threads. You can avoid it by setting the environment variable OMP_NUM_THREADS=7.\n",
      "  warnings.warn(\n"
     ]
    },
    {
     "data": {
      "text/plain": [
       "[<matplotlib.lines.Line2D at 0x1c0ac1efc40>]"
      ]
     },
     "execution_count": 825,
     "metadata": {},
     "output_type": "execute_result"
    },
    {
     "data": {
      "image/png": "[encoded data removed]",
      "text/plain": [
       "<Figure size 432x288 with 1 Axes>"
      ]
     },
     "metadata": {},
     "output_type": "display_data"
    }
   ],
   "source": [
    "#identifing the optimal number of components for gmm\n",
    "n_components = np.arange(15, 20)\n",
    "models = [GaussianMixture(n, covariance_type='full', random_state=0)\n",
    "         for n in n_components]\n",
    "aics = [model.fit(zeroData.drop(columns=['label'])).aic(zeroData.drop(columns=['label'])) for model in models]\n",
    "plt.plot(n_components, aics)"
   ]
  },
  {
   "cell_type": "code",
   "execution_count": 826,
   "metadata": {},
   "outputs": [
    {
     "name": "stderr",
     "output_type": "stream",
     "text": [
      "c:\\Users\\atrsy\\anaconda3\\lib\\site-packages\\sklearn\\cluster\\_kmeans.py:1334: UserWarning: KMeans is known to have a memory leak on Windows with MKL, when there are less chunks than available threads. You can avoid it by setting the environment variable OMP_NUM_THREADS=7.\n",
      "  warnings.warn(\n"
     ]
    },
    {
     "name": "stdout",
     "output_type": "stream",
     "text": [
      "True\n"
     ]
    }
   ],
   "source": [
    "gmm0 = GaussianMixture(18, covariance_type='full')\n",
    "gmm0.fit(zeroData.drop(columns=['label']))\n",
    "print(gmm.converged_)"
   ]
  },
  {
   "cell_type": "code",
   "execution_count": 827,
   "metadata": {},
   "outputs": [
    {
     "data": {
      "image/png": "[encoded data removed]",
      "text/plain": [
       "<Figure size 432x288 with 1 Axes>"
      ]
     },
     "metadata": {},
     "output_type": "display_data"
    }
   ],
   "source": [
    "# testing writing generation\n",
    "data_new = gmm1.sample(1)\n",
    "data_new = data_new[0]\n",
    "digits_new = pca.inverse_transform(data_new)\n",
    "showDigit(digits_new[0],label=1)"
   ]
  },
  {
   "attachments": {},
   "cell_type": "markdown",
   "metadata": {},
   "source": [
    "### writeNumber"
   ]
  },
  {
   "cell_type": "code",
   "execution_count": 828,
   "metadata": {},
   "outputs": [],
   "source": [
    "#takes an integer as input, and draws a handwritten version of that same number\n",
    "def writeNumber(num):\n",
    "    digitList = [int(i) for i in str(num)]\n",
    "    numbers = []\n",
    "    for i in digitList:\n",
    "        if i == 1:\n",
    "            data_new = gmm1.sample(1)\n",
    "        elif i == 2:\n",
    "            data_new = gmm2.sample(1)\n",
    "        elif i == 3:\n",
    "            data_new = gmm3.sample(1)\n",
    "        elif i == 4:\n",
    "            data_new = gmm4.sample(1)\n",
    "        elif i == 5:\n",
    "            data_new = gmm5.sample(1)\n",
    "        elif i == 6:\n",
    "            data_new = gmm6.sample(1)\n",
    "        elif i == 7:\n",
    "            data_new = gmm7.sample(1)\n",
    "        elif i == 8:\n",
    "            data_new = gmm8.sample(1)\n",
    "        elif i == 9:\n",
    "            data_new = gmm9.sample(1)\n",
    "        elif i == 0:\n",
    "            data_new = gmm0.sample(1)\n",
    "\n",
    "        data_new = data_new[0]\n",
    "        digit_new = pca.inverse_transform(data_new)\n",
    "        numbers.append(digit_new[0])\n",
    "\n",
    "    dataNumbers = pd.DataFrame(numbers)\n",
    "    showDigits(dataNumbers)"
   ]
  },
  {
   "cell_type": "code",
   "execution_count": 845,
   "metadata": {},
   "outputs": [
    {
     "data": {
      "image/png": "[encoded data removed]",
      "text/plain": [
       "<Figure size 1008x432 with 8 Axes>"
      ]
     },
     "metadata": {},
     "output_type": "display_data"
    }
   ],
   "source": [
    "writeNumber(55555555)"
   ]
  }
 ],
 "metadata": {
  "interpreter": {
   "hash": "4d722d3adfa415172c1f5238b519fb86b488acdae450fd691ab06c09f4ca9173"
  },
  "kernelspec": {
   "display_name": "Python 3.9.7 64-bit ('ml3950': conda)",
   "language": "python",
   "name": "python3"
  },
  "language_info": {
   "codemirror_mode": {
    "name": "ipython",
    "version": 3
   },
   "file_extension": ".py",
   "mimetype": "text/x-python",
   "name": "python",
   "nbconvert_exporter": "python",
   "pygments_lexer": "ipython3",
   "version": "3.9.12"
  },
  "orig_nbformat": 4
 },
 "nbformat": 4,
 "nbformat_minor": 2
}
